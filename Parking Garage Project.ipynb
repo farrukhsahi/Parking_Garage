{
 "cells": [
  {
   "cell_type": "markdown",
   "metadata": {},
   "source": [
    "# Parking Garage Project\n",
    "\n",
    "Your assignment for today is to create a parking garage class to get more familiar with Object Oriented Programming(OOP). \n",
    "\n",
    "Your parking gargage class should have the following methods:\n",
    "- takeTicket\n",
    "   - This should decrease the amount of tickets available by 1\n",
    "   - This should decrease the amount of parkingSpaces available by 1\n",
    "- payForParking\n",
    "   - Display an input that waits for an amount from the user and store it in a variable\n",
    "   - If the payment variable is not empty then ->  display a message to the user that their ticket has been paid and they have 15mins to leave\n",
    "   - This should update the \"currentTicket\" dictionary key \"paid\" to True\n",
    "-leaveGarage\n",
    "   - If the ticket has been paid, display a message of \"Thank You, have a nice day\"\n",
    "   - If the ticket has not been paid, display an input prompt for payment\n",
    "      - Once paid, display message \"Thank you, have a nice day!\"\n",
    "   - Update parkingSpaces list to increase by 1\n",
    "   - Update tickets list to increase by 1\n",
    "\n",
    "You will need a few attributes as well:\n",
    "- tickets -> list\n",
    "- parkingSpaces -> list\n",
    "- currentTicket -> dictionary"
   ]
  },
  {
   "cell_type": "code",
   "execution_count": 1,
   "metadata": {},
   "outputs": [
    {
     "name": "stdout",
     "output_type": "stream",
     "text": [
      "Ticket 1 issued. Parking space 1 allocated.\n",
      "Enter your ticket number: 123\n",
      "Invalid ticket number.\n",
      "Enter your ticket number: 1\n",
      "Please pay for parking: 5\n",
      "Thank you, have a nice day!\n"
     ]
    }
   ],
   "source": [
    "class ParkingGarage:\n",
    "    def __init__(self, total_tickets, total_parking_spaces):\n",
    "        self.tickets = list(range(1, total_tickets + 1))\n",
    "        self.parking_spaces = list(range(1, total_parking_spaces + 1))\n",
    "        self.current_ticket = {}\n",
    "\n",
    "    def takeTicket(self):\n",
    "        if self.tickets:\n",
    "            ticket_number = self.tickets.pop(0)\n",
    "            parking_space = self.parking_spaces.pop(0)\n",
    "            self.current_ticket[ticket_number] = {\"parking_space\": parking_space, \"paid\": False}\n",
    "            print(f\"Ticket {ticket_number} issued. Parking space {parking_space} allocated.\")\n",
    "\n",
    "    def payForParking(self):\n",
    "        if not self.current_ticket:\n",
    "            print(\"No ticket issued. Please take a ticket first.\")\n",
    "            return\n",
    "\n",
    "        ticket_number = int(input(\"Enter your ticket number: \"))\n",
    "        if ticket_number not in self.current_ticket:\n",
    "            print(\"Invalid ticket number.\")\n",
    "            return\n",
    "\n",
    "        payment_amount = input(\"Enter the payment amount: \")\n",
    "        if payment_amount:\n",
    "            self.current_ticket[ticket_number][\"paid\"] = True\n",
    "            print(\"Ticket paid. You have 15 minutes to leave.\")\n",
    "\n",
    "    def leaveGarage(self):\n",
    "        if not self.current_ticket:\n",
    "            print(\"No ticket issued. Please take a ticket first.\")\n",
    "            return\n",
    "\n",
    "        ticket_number = int(input(\"Enter your ticket number: \"))\n",
    "        if ticket_number not in self.current_ticket:\n",
    "            print(\"Invalid ticket number.\")\n",
    "            return\n",
    "\n",
    "        if self.current_ticket[ticket_number][\"paid\"]:\n",
    "            print(\"Thank you, have a nice day!\")\n",
    "        else:\n",
    "            payment_amount = input(\"Please pay for parking: \")\n",
    "            if payment_amount:\n",
    "                self.current_ticket[ticket_number][\"paid\"] = True\n",
    "                print(\"Thank you, have a nice day!\")\n",
    "            else:\n",
    "                print(\"Payment not received. Please pay before leaving.\")\n",
    "\n",
    "        parking_space = self.current_ticket[ticket_number][\"parking_space\"]\n",
    "        self.parking_spaces.append(parking_space)\n",
    "        self.tickets.append(ticket_number)\n",
    "        del self.current_ticket[ticket_number]\n",
    "\n",
    "# Example\n",
    "parking_garage = ParkingGarage(total_tickets=10, total_parking_spaces=10)\n",
    "\n",
    "# Simulate taking a ticket\n",
    "parking_garage.takeTicket()\n",
    "\n",
    "# Simulate paying for parking\n",
    "parking_garage.payForParking()\n",
    "\n",
    "# Simulate leaving the garage\n",
    "parking_garage.leaveGarage()"
   ]
  }
 ],
 "metadata": {
  "kernelspec": {
   "display_name": "Python 3 (ipykernel)",
   "language": "python",
   "name": "python3"
  },
  "language_info": {
   "codemirror_mode": {
    "name": "ipython",
    "version": 3
   },
   "file_extension": ".py",
   "mimetype": "text/x-python",
   "name": "python",
   "nbconvert_exporter": "python",
   "pygments_lexer": "ipython3",
   "version": "3.11.4"
  }
 },
 "nbformat": 4,
 "nbformat_minor": 2
}
